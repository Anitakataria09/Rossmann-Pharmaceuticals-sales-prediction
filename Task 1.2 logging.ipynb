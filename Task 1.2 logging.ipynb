{
 "cells": [
  {
   "cell_type": "code",
   "execution_count": 1,
   "id": "86265276",
   "metadata": {},
   "outputs": [],
   "source": [
    "import logging"
   ]
  },
  {
   "cell_type": "code",
   "execution_count": 2,
   "id": "0734256b",
   "metadata": {},
   "outputs": [],
   "source": [
    "# Configure the logging setting\n",
    "logging.basicConfig(filename = 'logfile.log',level=logging.INFO,filemode='w',format='%(asctime)s-%(levelname)s-%(message)s-%(lineno)d')"
   ]
  },
  {
   "cell_type": "code",
   "execution_count": 6,
   "id": "273db152",
   "metadata": {},
   "outputs": [],
   "source": [
    "# createa logger object\n",
    "logger = logging.getLogger()\n",
    "logger = logging.getLogger('my_logger')\n",
    "\n",
    "logger.setLevel(logging.DEBUG)"
   ]
  },
  {
   "cell_type": "code",
   "execution_count": 7,
   "id": "d74b611c",
   "metadata": {},
   "outputs": [],
   "source": [
    "# Creating and configuring handlers\n",
    "\n",
    "file_handler = logging.FileHandler(\"app.log\")\n",
    "console_handler = logging.StreamHandler()"
   ]
  },
  {
   "cell_type": "code",
   "execution_count": 8,
   "id": "e20a0a75",
   "metadata": {},
   "outputs": [],
   "source": [
    "# setting the log level for each handler\n",
    "\n",
    "file_handler.setLevel(logging.ERROR)\n",
    "console_handler.setLevel(logging.DEBUG)"
   ]
  },
  {
   "cell_type": "code",
   "execution_count": 9,
   "id": "fb2d5061",
   "metadata": {},
   "outputs": [],
   "source": [
    "# create a formatter\n",
    "formatter = logging.Formatter(\"%(asctime)s-%(name)s-%(levelname)s-%(message)s)\")"
   ]
  },
  {
   "cell_type": "code",
   "execution_count": 10,
   "id": "cca57886",
   "metadata": {},
   "outputs": [],
   "source": [
    "# setting the formatter for each handler\n",
    "\n",
    "file_handler.setFormatter(formatter)\n",
    "console_handler.setFormatter(formatter)"
   ]
  },
  {
   "cell_type": "code",
   "execution_count": 11,
   "id": "230ee2b0",
   "metadata": {},
   "outputs": [],
   "source": [
    "# Attaching the handlers to the logger\n",
    "logger.addHandler(file_handler)\n",
    "logger.addHandler(console_handler)\n"
   ]
  },
  {
   "cell_type": "code",
   "execution_count": 12,
   "id": "fea8d9c1",
   "metadata": {},
   "outputs": [
    {
     "name": "stderr",
     "output_type": "stream",
     "text": [
      "2024-01-04 16:02:11,072-my_logger-DEBUG-This is a debug message)\n",
      "2024-01-04 16:02:11,078-my_logger-INFO-This is an info message)\n",
      "2024-01-04 16:02:11,080-my_logger-WARNING-This is a warning message)\n",
      "2024-01-04 16:02:11,081-my_logger-ERROR-This is an error message)\n",
      "2024-01-04 16:02:11,083-my_logger-CRITICAL-This is a critical message)\n"
     ]
    }
   ],
   "source": [
    "# Logging messages\n",
    "logger.debug(\"This is a debug message\")\n",
    "logger.info(\"This is an info message\")\n",
    "logger.warning(\"This is a warning message\")\n",
    "logger.error(\"This is an error message\")\n",
    "logger.critical(\"This is a critical message\")\n"
   ]
  },
  {
   "cell_type": "code",
   "execution_count": 13,
   "id": "76659eaa",
   "metadata": {},
   "outputs": [
    {
     "name": "stderr",
     "output_type": "stream",
     "text": [
      "2024-01-04 16:02:42,924-my_logger-INFO-Program started.)\n",
      "2024-01-04 16:02:42,926-my_logger-INFO-Starting my_function...)\n",
      "2024-01-04 16:02:42,926-my_logger-INFO-Result: 5.0)\n",
      "2024-01-04 16:02:42,926-my_logger-INFO-Finished my_function.)\n",
      "2024-01-04 16:02:42,926-my_logger-INFO-Program finished.)\n"
     ]
    }
   ],
   "source": [
    "def my_function():\n",
    "    logger.info('Starting my_function...')\n",
    "\n",
    "    try:\n",
    "        # Your code logic here\n",
    "        result = 10 / 2\n",
    "        logger.info('Result: %s', result)\n",
    "    except Exception as e:\n",
    "        logger.error('An error occurred: %s', str(e))\n",
    "    finally:\n",
    "        logger.info('Finished my_function.')\n",
    "\n",
    "if __name__ == \"__main__\":\n",
    "    # Your main code here\n",
    "    logger.info('Program started.')\n",
    "    my_function()\n",
    "    logger.info('Program finished.')"
   ]
  },
  {
   "cell_type": "code",
   "execution_count": null,
   "id": "3ea25798",
   "metadata": {},
   "outputs": [],
   "source": []
  }
 ],
 "metadata": {
  "kernelspec": {
   "display_name": "Python 3 (ipykernel)",
   "language": "python",
   "name": "python3"
  },
  "language_info": {
   "codemirror_mode": {
    "name": "ipython",
    "version": 3
   },
   "file_extension": ".py",
   "mimetype": "text/x-python",
   "name": "python",
   "nbconvert_exporter": "python",
   "pygments_lexer": "ipython3",
   "version": "3.10.9"
  }
 },
 "nbformat": 4,
 "nbformat_minor": 5
}
